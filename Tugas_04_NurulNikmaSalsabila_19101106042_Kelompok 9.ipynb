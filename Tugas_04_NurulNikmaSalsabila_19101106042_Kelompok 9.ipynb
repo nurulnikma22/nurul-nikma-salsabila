{
 "cells": [
  {
   "cell_type": "code",
   "execution_count": 8,
   "metadata": {},
   "outputs": [],
   "source": [
    "#Melakukan pengujian data dengan Bahasa R"
   ]
  },
  {
   "cell_type": "markdown",
   "metadata": {},
   "source": [
    "# Uji Data Kelompok 9"
   ]
  },
  {
   "cell_type": "markdown",
   "metadata": {},
   "source": [
    "Q1 = Adanya E-Learning membuat pelajar dapat mengakses materi pelajaran dimana saja, selama terhubung dengan jaringan Internet ?\n",
    "\n",
    "Q2 = Setelah menggunakan E-Learning, anda lebih cepat menangkap materi pembelajaran ?\n",
    "\n",
    "\n",
    "Q3 = Dengan adanya E-Learning, materi - materi pembelajaran lebih mudah untuk dimengerti ?\n",
    "\n",
    "\n",
    "Q4 = Terdapat banyak materi internet yang mengandung konten - konten negatif ?\n",
    "\n",
    "\n",
    "Q5 = Apakah Biaya untuk mengakses internet di Indonesia mahal ?\n",
    "\n",
    "\n",
    "Q6 = Dengan adanya E-learning, proses pembelajaran tidak memerlukan banyak biaya ?\n",
    "\n",
    "\n",
    "Q7 = Apakah Ada materi yang tidak bisa disampaikan melalui E-learning. seperti praktek perakitan hardware ?\n",
    "\n",
    "\n",
    "Q8 = Apakah akses internet di tempat asal sudah cepat ?\""
   ]
  },
  {
   "cell_type": "markdown",
   "metadata": {},
   "source": [
    "# Alpha Cronbach (Reliability Analysis)"
   ]
  },
  {
   "cell_type": "code",
   "execution_count": 35,
   "metadata": {
    "scrolled": false
   },
   "outputs": [
    {
     "data": {
      "text/plain": [
       "\n",
       "Reliability analysis   \n",
       "Call: alpha(x = data, check.keys = TRUE)\n",
       "\n",
       "  raw_alpha std.alpha G6(smc) average_r S/N   ase mean   sd median_r\n",
       "       0.5      0.51    0.57      0.12 1.1 0.034  2.9 0.48    0.078\n",
       "\n",
       " lower alpha upper     95% confidence boundaries\n",
       "0.44 0.5 0.57 \n",
       "\n",
       " Reliability if an item is dropped:\n",
       "    raw_alpha std.alpha G6(smc) average_r  S/N alpha se var.r med.r\n",
       "Q1       0.49      0.51    0.55     0.130 1.04    0.035 0.025 0.079\n",
       "Q2       0.40      0.40    0.42     0.087 0.67    0.040 0.014 0.076\n",
       "Q3       0.40      0.39    0.42     0.085 0.65    0.041 0.014 0.076\n",
       "Q4-      0.52      0.53    0.59     0.140 1.14    0.033 0.032 0.134\n",
       "Q5-      0.46      0.48    0.53     0.115 0.91    0.037 0.031 0.076\n",
       "Q6       0.44      0.46    0.52     0.108 0.84    0.038 0.031 0.079\n",
       "Q7-      0.52      0.54    0.58     0.142 1.16    0.033 0.026 0.079\n",
       "Q8       0.50      0.51    0.56     0.129 1.04    0.034 0.031 0.079\n",
       "\n",
       " Item statistics \n",
       "      n raw.r std.r r.cor r.drop mean   sd\n",
       "Q1  501  0.39  0.41  0.26  0.159  3.9 0.91\n",
       "Q2  501  0.60  0.64  0.68  0.419  3.1 0.91\n",
       "Q3  501  0.62  0.65  0.70  0.427  3.1 0.96\n",
       "Q4- 501  0.37  0.35  0.13  0.099  3.2 1.05\n",
       "Q5- 501  0.52  0.49  0.35  0.258  2.2 1.10\n",
       "Q6  501  0.53  0.53  0.40  0.298  2.9 1.01\n",
       "Q7- 501  0.32  0.34  0.15  0.082  2.1 0.93\n",
       "Q8  501  0.46  0.41  0.22  0.162  3.1 1.20\n",
       "\n",
       "Non missing response frequency for each item\n",
       "      1    2    3    4    5 miss\n",
       "Q1 0.04 0.04 0.09 0.60 0.23    0\n",
       "Q2 0.05 0.19 0.44 0.29 0.04    0\n",
       "Q3 0.06 0.21 0.40 0.28 0.05    0\n",
       "Q4 0.09 0.37 0.27 0.23 0.05    0\n",
       "Q5 0.03 0.12 0.19 0.35 0.31    0\n",
       "Q6 0.08 0.32 0.33 0.23 0.05    0\n",
       "Q7 0.01 0.08 0.20 0.45 0.26    0\n",
       "Q8 0.13 0.22 0.16 0.43 0.06    0"
      ]
     },
     "metadata": {},
     "output_type": "display_data"
    }
   ],
   "source": [
    "#Alpha Cronbach digunakan untuk menguji kelayakan suatu data"
   ]
  },
  {
   "cell_type": "markdown",
   "metadata": {},
   "source": [
    "# Pengujian T-test (One Sample-Test)"
   ]
  },
  {
   "cell_type": "markdown",
   "metadata": {},
   "source": [
    "apakah nilai tertentu berbeda secara signifikan atau tidak dengan rata-rata sebuah sampel"
   ]
  },
  {
   "cell_type": "code",
   "execution_count": 24,
   "metadata": {},
   "outputs": [
    {
     "data": {
      "text/plain": [
       "\n",
       "\tOne Sample t-test\n",
       "\n",
       "data:  data$Q1\n",
       "t = 97.284, df = 500, p-value < 2.2e-16\n",
       "alternative hypothesis: true mean is not equal to 0\n",
       "95 percent confidence interval:\n",
       " 3.862502 4.021729\n",
       "sample estimates:\n",
       "mean of x \n",
       " 3.942116 \n"
      ]
     },
     "metadata": {},
     "output_type": "display_data"
    }
   ],
   "source": [
    "#Sampel Data Q1"
   ]
  },
  {
   "cell_type": "code",
   "execution_count": 25,
   "metadata": {},
   "outputs": [
    {
     "data": {
      "text/plain": [
       "\n",
       "\tOne Sample t-test\n",
       "\n",
       "data:  data$Q2\n",
       "t = 76.181, df = 500, p-value < 2.2e-16\n",
       "alternative hypothesis: true mean is not equal to 0\n",
       "95 percent confidence interval:\n",
       " 3.004300 3.163364\n",
       "sample estimates:\n",
       "mean of x \n",
       " 3.083832 \n"
      ]
     },
     "metadata": {},
     "output_type": "display_data"
    }
   ],
   "source": [
    "#Sampel Data Q2"
   ]
  },
  {
   "cell_type": "code",
   "execution_count": 26,
   "metadata": {},
   "outputs": [
    {
     "data": {
      "text/plain": [
       "\n",
       "\tOne Sample t-test\n",
       "\n",
       "data:  data$Q3\n",
       "t = 71.59, df = 500, p-value < 2.2e-16\n",
       "alternative hypothesis: true mean is not equal to 0\n",
       "95 percent confidence interval:\n",
       " 2.972022 3.139754\n",
       "sample estimates:\n",
       "mean of x \n",
       " 3.055888 \n"
      ]
     },
     "metadata": {},
     "output_type": "display_data"
    }
   ],
   "source": [
    "#Sampel Data Q3"
   ]
  },
  {
   "cell_type": "code",
   "execution_count": 27,
   "metadata": {},
   "outputs": [
    {
     "data": {
      "text/plain": [
       "\n",
       "\tOne Sample t-test\n",
       "\n",
       "data:  data$Q4\n",
       "t = 59.345, df = 500, p-value < 2.2e-16\n",
       "alternative hypothesis: true mean is not equal to 0\n",
       "95 percent confidence interval:\n",
       " 2.682598 2.866304\n",
       "sample estimates:\n",
       "mean of x \n",
       " 2.774451 \n"
      ]
     },
     "metadata": {},
     "output_type": "display_data"
    }
   ],
   "source": [
    "#Sampel Data Q4"
   ]
  },
  {
   "cell_type": "code",
   "execution_count": 28,
   "metadata": {},
   "outputs": [
    {
     "data": {
      "text/plain": [
       "\n",
       "\tOne Sample t-test\n",
       "\n",
       "data:  data$Q5\n",
       "t = 77.363, df = 500, p-value < 2.2e-16\n",
       "alternative hypothesis: true mean is not equal to 0\n",
       "95 percent confidence interval:\n",
       " 3.699993 3.892821\n",
       "sample estimates:\n",
       "mean of x \n",
       " 3.796407 \n"
      ]
     },
     "metadata": {},
     "output_type": "display_data"
    }
   ],
   "source": [
    "#Sampel Data Q5"
   ]
  },
  {
   "cell_type": "code",
   "execution_count": 29,
   "metadata": {},
   "outputs": [
    {
     "data": {
      "text/plain": [
       "\n",
       "\tOne Sample t-test\n",
       "\n",
       "data:  data$Q6\n",
       "t = 63.396, df = 500, p-value < 2.2e-16\n",
       "alternative hypothesis: true mean is not equal to 0\n",
       "95 percent confidence interval:\n",
       " 2.763900 2.940691\n",
       "sample estimates:\n",
       "mean of x \n",
       " 2.852295 \n"
      ]
     },
     "metadata": {},
     "output_type": "display_data"
    }
   ],
   "source": [
    "#Sampel Data Q6"
   ]
  },
  {
   "cell_type": "code",
   "execution_count": 30,
   "metadata": {},
   "outputs": [
    {
     "data": {
      "text/plain": [
       "\n",
       "\tOne Sample t-test\n",
       "\n",
       "data:  data$Q7\n",
       "t = 92.795, df = 500, p-value < 2.2e-16\n",
       "alternative hypothesis: true mean is not equal to 0\n",
       "95 percent confidence interval:\n",
       " 3.786362 3.950165\n",
       "sample estimates:\n",
       "mean of x \n",
       " 3.868263 \n"
      ]
     },
     "metadata": {},
     "output_type": "display_data"
    }
   ],
   "source": [
    "#Sampel Data Q7"
   ]
  },
  {
   "cell_type": "code",
   "execution_count": 31,
   "metadata": {},
   "outputs": [
    {
     "data": {
      "text/plain": [
       "\n",
       "\tOne Sample t-test\n",
       "\n",
       "data:  data$Q8\n",
       "t = 57.478, df = 500, p-value < 2.2e-16\n",
       "alternative hypothesis: true mean is not equal to 0\n",
       "95 percent confidence interval:\n",
       " 2.964927 3.174794\n",
       "sample estimates:\n",
       "mean of x \n",
       "  3.06986 \n"
      ]
     },
     "metadata": {},
     "output_type": "display_data"
    }
   ],
   "source": [
    "#Sampel Data Q8"
   ]
  },
  {
   "cell_type": "markdown",
   "metadata": {},
   "source": [
    "# Principal Component Analysis (PCA)"
   ]
  },
  {
   "cell_type": "code",
   "execution_count": 38,
   "metadata": {},
   "outputs": [
    {
     "data": {
      "text/plain": [
       "Importance of components:\n",
       "                          Comp.1    Comp.2    Comp.3    Comp.4    Comp.5\n",
       "Standard deviation     1.4072522 1.2199367 1.1353581 1.0399361 0.9389902\n",
       "Proportion of Variance 0.2428245 0.1824834 0.1580573 0.1326056 0.1081112\n",
       "Cumulative Proportion  0.2428245 0.4253079 0.5833652 0.7159708 0.8240820\n",
       "                           Comp.6     Comp.7     Comp.8\n",
       "Standard deviation     0.82183560 0.70777053 0.50827980\n",
       "Proportion of Variance 0.08281683 0.06142337 0.03167776\n",
       "Cumulative Proportion  0.90689887 0.96832224 1.00000000"
      ]
     },
     "metadata": {},
     "output_type": "display_data"
    }
   ],
   "source": [
    "#Componen PCA"
   ]
  },
  {
   "cell_type": "code",
   "execution_count": 39,
   "metadata": {},
   "outputs": [
    {
     "data": {
      "image/png": "[encoded data removed]",
      "text/plain": [
       "plot without title"
      ]
     },
     "metadata": {},
     "output_type": "display_data"
    }
   ],
   "source": [
    "#Scree Plot"
   ]
  },
  {
   "cell_type": "code",
   "execution_count": 40,
   "metadata": {},
   "outputs": [
    {
     "data": {
      "image/png": "[encoded data removed]",
      "text/plain": [
       "plot without title"
      ]
     },
     "metadata": {},
     "output_type": "display_data"
    }
   ],
   "source": [
    "# Cumulative Scree Plot"
   ]
  }
 ],
 "metadata": {
  "kernelspec": {
   "display_name": "R",
   "language": "R",
   "name": "ir"
  },
  "language_info": {
   "codemirror_mode": "r",
   "file_extension": ".r",
   "mimetype": "text/x-r-source",
   "name": "R",
   "pygments_lexer": "r",
   "version": "3.6.1"
  }
 },
 "nbformat": 4,
 "nbformat_minor": 4
}
